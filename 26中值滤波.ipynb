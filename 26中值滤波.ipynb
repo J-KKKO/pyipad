{
 "cells": [
  {
   "cell_type": "markdown",
   "id": "05a395fd",
   "metadata": {},
   "source": [
    "中值滤波是需要对范围内数据进行排序，然后选取排序位置在中间的一个作为范围内的代表值输出"
   ]
  },
  {
   "cell_type": "code",
   "execution_count": 18,
   "id": "76422d3f",
   "metadata": {},
   "outputs": [],
   "source": [
    "import cv2\n",
    "import numpy as np\n",
    "jy1 = cv2.imread('C:/Users/k/Downloads/jiaoyan.webp')\n",
    "jy=cv2.resize(jy1,dsize=None,fx=0.75,fy=0.75,interpolation=cv2.INTER_AREA)"
   ]
  },
  {
   "cell_type": "code",
   "execution_count": 19,
   "id": "991998a9",
   "metadata": {},
   "outputs": [],
   "source": [
    "#这里的ksize不能像之前一样填一个元组，只能填一个数字\n",
    "dst=cv2.medianBlur(jy,5)\n",
    "dst1=cv2.GaussianBlur(jy,(5,5),sigmaX=100)"
   ]
  },
  {
   "cell_type": "code",
   "execution_count": 20,
   "id": "5e71b006",
   "metadata": {},
   "outputs": [],
   "source": [
    "cv2.imshow('dst',np.hstack((jy,dst,dst1)))\n",
    "cv2.waitKey(0)\n",
    "cv2.destroyAllWindows()"
   ]
  },
  {
   "cell_type": "code",
   "execution_count": null,
   "id": "6fc3d558",
   "metadata": {},
   "outputs": [],
   "source": []
  }
 ],
 "metadata": {
  "kernelspec": {
   "display_name": "DL",
   "language": "python",
   "name": "dl"
  },
  "language_info": {
   "codemirror_mode": {
    "name": "ipython",
    "version": 3
   },
   "file_extension": ".py",
   "mimetype": "text/x-python",
   "name": "python",
   "nbconvert_exporter": "python",
   "pygments_lexer": "ipython3",
   "version": "3.9.17"
  }
 },
 "nbformat": 4,
 "nbformat_minor": 5
}
